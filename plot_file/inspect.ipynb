{
 "cells": [
  {
   "cell_type": "code",
   "execution_count": 3,
   "metadata": {},
   "outputs": [],
   "source": [
    "import pandas as pd\n",
    "import numpy as np\n"
   ]
  },
  {
   "cell_type": "code",
   "execution_count": 5,
   "metadata": {},
   "outputs": [],
   "source": [
    "this_path = '/Users/liting/Documents/GitHub/r_chagasM/cell/'\n",
    "bug_list = ['San','Rub','Rec','Pro','Neo','Mex','Maz','Lon','Lec','Ind','Ger','Dim']"
   ]
  },
  {
   "cell_type": "code",
   "execution_count": 7,
   "metadata": {},
   "outputs": [
    {
     "name": "stdout",
     "output_type": "stream",
     "text": [
      "San\n",
      "604\n",
      "Rub\n",
      "157\n",
      "Rec\n",
      "41\n",
      "Pro\n",
      "314\n",
      "Neo\n",
      "12\n",
      "Mex\n",
      "106\n",
      "Maz\n",
      "69\n",
      "Lon\n",
      "199\n",
      "Lec\n",
      "18\n",
      "Ind\n",
      "34\n",
      "Ger\n",
      "422\n",
      "Dim\n",
      "500\n"
     ]
    }
   ],
   "source": [
    "for this_bug in bug_list:\n",
    "    this_df = pd.read_csv(this_path+this_bug+'.csv')\n",
    "    print(this_bug)\n",
    "    print(len(this_df[this_df['count']==1]))"
   ]
  }
 ],
 "metadata": {
  "kernelspec": {
   "display_name": "analysis",
   "language": "python",
   "name": "python3"
  },
  "language_info": {
   "codemirror_mode": {
    "name": "ipython",
    "version": 3
   },
   "file_extension": ".py",
   "mimetype": "text/x-python",
   "name": "python",
   "nbconvert_exporter": "python",
   "pygments_lexer": "ipython3",
   "version": "3.11.7"
  }
 },
 "nbformat": 4,
 "nbformat_minor": 2
}
