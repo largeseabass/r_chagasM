{
 "cells": [
  {
   "cell_type": "code",
   "execution_count": 3,
   "metadata": {},
   "outputs": [],
   "source": [
    "import pandas as pd\n",
    "import csv\n",
    "import numpy as np\n",
    "import matplotlib.pyplot as plt"
   ]
  },
  {
   "cell_type": "code",
   "execution_count": 4,
   "metadata": {},
   "outputs": [],
   "source": [
    "def get_auc_mae(csv_saving_path):\n",
    "    this_csv_to_plot = pd.read_csv(csv_saving_path)\n",
    "    #print(this_csv_to_plot.keys)\n",
    "    mae_list = [this_csv_to_plot['mae'][0]]\n",
    "    auc_list = [this_csv_to_plot['auc'][0]]\n",
    "    count = 1\n",
    "    while count < 10:\n",
    "        this_mae_name = 'mae.'+str(count)\n",
    "        this_auc_name = 'auc.'+str(count)\n",
    "        mae_list.append(this_csv_to_plot[this_mae_name][0])\n",
    "        auc_list.append(this_csv_to_plot[this_auc_name][0])\n",
    "        count+=1\n",
    "\n",
    "    return(np.mean(auc_list),np.mean(mae_list))  "
   ]
  },
  {
   "cell_type": "code",
   "execution_count": 5,
   "metadata": {},
   "outputs": [],
   "source": [
    "def get_mean_svd(csv_saving_path,csv_result_path):\n",
    "    this_csv_to_plot = pd.read_csv(csv_saving_path)\n",
    "    this_csv_to_plot.keys\n",
    "    mae_list = [this_csv_to_plot['mae'][0]]\n",
    "    auc_list = [this_csv_to_plot['auc'][0]]\n",
    "    bias_list = [this_csv_to_plot['bias'][0]]\n",
    "    tss_list = [this_csv_to_plot['tss'][0]]\n",
    "    threshold_list = [this_csv_to_plot['tss_threshold'][0]]\n",
    "    count = 1\n",
    "    while count < 10:\n",
    "        this_mae_name = 'mae.'+str(count)\n",
    "        this_auc_name = 'auc.'+str(count)\n",
    "        this_bias_name = 'bias.'+str(count)\n",
    "        this_tss_name = 'tss.'+str(count)\n",
    "        this_threshold_name = 'tss_threshold.'+str(count)\n",
    "        mae_list.append(this_csv_to_plot[this_mae_name][0])\n",
    "        auc_list.append(this_csv_to_plot[this_auc_name][0])\n",
    "        bias_list.append(this_csv_to_plot[this_bias_name][0])\n",
    "        tss_list.append(this_csv_to_plot[this_tss_name][0])\n",
    "        threshold_list.append(this_csv_to_plot[this_threshold_name][0])\n",
    "        count+=1\n",
    "\n",
    "    this_df = pd.DataFrame({'auc_mean': [np.mean(auc_list)], 'auc_std': [np.std(auc_list)],\n",
    "                            'mae_mean': [np.mean(mae_list)], 'mae_std': [np.std(mae_list)],\n",
    "                            'bias_mean': [np.mean(bias_list)], 'bias_std': [np.std(bias_list)],\n",
    "                            'tss_mean': [np.mean(tss_list)], 'tss_std': [np.std(tss_list)],\n",
    "                            'tss_threshold_mean': [np.mean(threshold_list)], 'tss_threshold_std': [np.std(threshold_list)],})\n",
    "    this_df.to_csv(csv_result_path)"
   ]
  },
  {
   "cell_type": "code",
   "execution_count": 7,
   "metadata": {},
   "outputs": [],
   "source": [
    "#auc,mae = get_auc_mae(\"/Users/vivianhuang/Desktop/R-modeling-scripts/r_chagasM/output/kfold_grid_process/San/evaluate/cv_metric_results.csv\")\n",
    "get_mean_svd(csv_saving_path=\"/Users/liting/Documents/GitHub/r_chagasM/output/kfold_process/San/evaluate/cv_metric_results.csv\",\n",
    "             csv_result_path=\"/Users/liting/Documents/GitHub/r_chagasM/output/kfold_process/San/evaluate/cv_metric_mean_std_results.csv\")"
   ]
  },
  {
   "cell_type": "code",
   "execution_count": 23,
   "metadata": {},
   "outputs": [
    {
     "name": "stdout",
     "output_type": "stream",
     "text": [
      "<bound method NDFrame.keys of    Unnamed: 0      mae       tss      bias       auc  tss_threshold     mae.1  \\\n",
      "0           1  0.07802  0.836333 -0.034998  0.964117       0.209544  0.072467   \n",
      "\n",
      "      tss.1    bias.1     auc.1  ...     mae.8     tss.8   bias.8     auc.8  \\\n",
      "0  0.895871 -0.032616  0.970532  ...  0.065683  0.906333 -0.03012  0.977433   \n",
      "\n",
      "   tss_threshold.8     mae.9     tss.9    bias.9     auc.9  tss_threshold.9  \n",
      "0         0.219833  0.075266  0.883607 -0.039992  0.974672          0.18036  \n",
      "\n",
      "[1 rows x 51 columns]>\n"
     ]
    }
   ],
   "source": [
    "pca_grid_auc,pca_grid_mae = get_auc_mae(\"/Users/vivianhuang/Desktop/R-modeling-scripts/r_chagasM/output/kfold_grid_process/San/evaluate/cv_metric_results.csv\")\n"
   ]
  },
  {
   "cell_type": "code",
   "execution_count": 23,
   "metadata": {},
   "outputs": [],
   "source": [
    "output_dir = \"/Users/liting/Documents/GitHub/r_chagasM/output/\"\n",
    "this_bug = \"Rec\""
   ]
  },
  {
   "cell_type": "code",
   "execution_count": 24,
   "metadata": {},
   "outputs": [],
   "source": [
    "get_mean_svd(csv_saving_path=output_dir+\"kfold_process/\"+this_bug+\"/evaluate/cv_metric_results.csv\",\n",
    "             csv_result_path=output_dir+\"kfold_process/\"+this_bug+\"/evaluate/cv_metric_mean_std_results.csv\")\n",
    "get_mean_svd(csv_saving_path=output_dir+\"kfold_buffer_process/\"+this_bug+\"/evaluate/cv_metric_results.csv\",\n",
    "             csv_result_path=output_dir+\"kfold_buffer_process/\"+this_bug+\"/evaluate/cv_metric_mean_std_results.csv\")\n",
    "\n",
    "get_mean_svd(csv_saving_path=output_dir+\"kfold_grid_process/\"+this_bug+\"/evaluate/cv_metric_results.csv\",\n",
    "             csv_result_path=output_dir+\"kfold_grid_process/\"+this_bug+\"/evaluate/cv_metric_mean_std_results.csv\")\n",
    "\n",
    "get_mean_svd(csv_saving_path=output_dir+\"kfold_grid_buffer_process/\"+this_bug+\"/evaluate/cv_metric_results.csv\",\n",
    "             csv_result_path=output_dir+\"kfold_grid_buffer_process/\"+this_bug+\"/evaluate/cv_metric_mean_std_results.csv\")\n",
    "\n",
    "get_mean_svd(csv_saving_path=output_dir+\"kfold/\"+this_bug+\"/evaluate/cv_metric_results.csv\",\n",
    "             csv_result_path=output_dir+\"kfold/\"+this_bug+\"/evaluate/cv_metric_mean_std_results.csv\")\n",
    "get_mean_svd(csv_saving_path=output_dir+\"kfold_buffer/\"+this_bug+\"/evaluate/cv_metric_results.csv\",\n",
    "             csv_result_path=output_dir+\"kfold_buffer/\"+this_bug+\"/evaluate/cv_metric_mean_std_results.csv\")\n",
    "\n",
    "get_mean_svd(csv_saving_path=output_dir+\"kfold_grid/\"+this_bug+\"/evaluate/cv_metric_results.csv\",\n",
    "             csv_result_path=output_dir+\"kfold_grid/\"+this_bug+\"/evaluate/cv_metric_mean_std_results.csv\")\n",
    "get_mean_svd(csv_saving_path=output_dir+\"kfold_grid_buffer/\"+this_bug+\"/evaluate/cv_metric_results.csv\",\n",
    "             csv_result_path=output_dir+\"kfold_grid_buffer/\"+this_bug+\"/evaluate/cv_metric_mean_std_results.csv\")\n",
    "\n"
   ]
  },
  {
   "cell_type": "code",
   "execution_count": 25,
   "metadata": {},
   "outputs": [
    {
     "data": {
      "image/png": "[encoded data removed]",
      "text/plain": [
       "<Figure size 500x500 with 1 Axes>"
      ]
     },
     "metadata": {},
     "output_type": "display_data"
    }
   ],
   "source": [
    "plt.figure(figsize=(5,5))\n",
    "\n",
    "pca_grid_auc,pca_grid_mae = get_auc_mae(output_dir+\"/kfold_grid_process/\"+this_bug+\"/evaluate/cv_metric_results.csv\")\n",
    "plt.scatter(pca_grid_mae, pca_grid_auc,label=\"pca_grid\",marker='.')\n",
    "pca_grid_buffer_auc,pca_grid_buffer_mae = get_auc_mae(output_dir+\"/kfold_grid_buffer_process/\"+this_bug+\"/evaluate/cv_metric_results.csv\")\n",
    "plt.scatter(pca_grid_buffer_mae, pca_grid_buffer_auc,label=\"pca_grid_buffer\",marker=\"*\")\n",
    "\n",
    "pixel_auc,pixel_mae = get_auc_mae(output_dir+\"/kfold/San/evaluate/cv_metric_results.csv\")\n",
    "plt.scatter(pixel_mae,pixel_auc,label=\"pixel\",marker='x')\n",
    "pixel_buffer_auc,pixel_buffer_mae = get_auc_mae(output_dir+\"/kfold_buffer/\"+this_bug+\"/evaluate/cv_metric_results.csv\")\n",
    "plt.scatter(pixel_buffer_mae,pixel_buffer_auc,label=\"pixel_buffer\",marker=\"X\")\n",
    "\n",
    "grid_auc,grid_mae = get_auc_mae(output_dir+\"/kfold_grid/\"+this_bug+\"/evaluate/cv_metric_results.csv\")\n",
    "plt.scatter(grid_mae,grid_auc,label=\"grid\",marker=\"^\")\n",
    "grid_buffer_auc,grid_buffer_mae = get_auc_mae(output_dir+\"/kfold_grid_buffer/\"+this_bug+\"/evaluate/cv_metric_results.csv\")\n",
    "plt.scatter(grid_buffer_mae,grid_buffer_auc,label=\"grid_buffer\",marker=\"v\")\n",
    "\n",
    "pca_pixel_auc,pca_pixel_mae = get_auc_mae(output_dir+\"/kfold_process/San/evaluate/cv_metric_results.csv\")\n",
    "plt.scatter(pca_pixel_mae,pca_pixel_auc,label=\"pca_pixel\",marker='x')\n",
    "pca_pixel_buffer_auc,pca_pixel_buffer_mae = get_auc_mae(output_dir+\"/kfold_buffer_process/\"+this_bug+\"/evaluate/cv_metric_results.csv\")\n",
    "plt.scatter(pixel_buffer_mae,pixel_buffer_auc,label=\"pca_pixel_buffer\",marker=\"X\")\n",
    "\n",
    "plt.xlim([0,0.15])\n",
    "plt.ylim([0.9,1])\n",
    "plt.xlabel(\"MAE\",fontsize=14)\n",
    "plt.ylabel(\"AUC\",fontsize=14)\n",
    "plt.legend(bbox_to_anchor=(1.5, 1.00),\n",
    "           frameon=False,\n",
    "           fontsize=10)\n",
    "plt.savefig(output_dir+\"/figures/maxent_method_comparison\"+this_bug+\".png\",dpi=200,bbox_inches='tight')"
   ]
  }
 ],
 "metadata": {
  "kernelspec": {
   "display_name": "analysis",
   "language": "python",
   "name": "python3"
  },
  "language_info": {
   "codemirror_mode": {
    "name": "ipython",
    "version": 3
   },
   "file_extension": ".py",
   "mimetype": "text/x-python",
   "name": "python",
   "nbconvert_exporter": "python",
   "pygments_lexer": "ipython3",
   "version": "3.11.7"
  }
 },
 "nbformat": 4,
 "nbformat_minor": 2
}
